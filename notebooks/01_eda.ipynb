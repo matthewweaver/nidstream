{
 "cells": [
  {
   "cell_type": "markdown",
   "id": "341d4f63",
   "metadata": {},
   "source": [
    "# CSE-CIC-IDS2018 Exploratory Data Analysis\n",
    "\n",
    "This notebook explores the CSE-CIC-IDS2018 network intrusion detection dataset.\n",
    "\n",
    "## Objectives:\n",
    "1. Load data from S3 using PySpark\n",
    "2. Understand data quality and missing values\n",
    "3. Analyze label distribution and class imbalance\n",
    "4. Explore feature correlations\n",
    "5. Identify temporal patterns in attacks\n",
    "6. Characterize different attack types"
   ]
  },
  {
   "cell_type": "code",
   "execution_count": null,
   "id": "ddd8d3c8",
   "metadata": {},
   "outputs": [],
   "source": [
    "# Import libraries\n",
    "import os\n",
    "import sys\n",
    "sys.path.append('..')\n",
    "\n",
    "import pandas as pd\n",
    "import numpy as np\n",
    "import matplotlib.pyplot as plt\n",
    "import seaborn as sns\n",
    "from pyspark.sql import SparkSession\n",
    "\n",
    "from src.feature_pipeline.load import create_spark_session, load_from_s3\n",
    "\n",
    "# Set plotting style\n",
    "sns.set_style('whitegrid')\n",
    "plt.rcParams['figure.figsize'] = (12, 6)\n",
    "\n",
    "%matplotlib inline"
   ]
  },
  {
   "cell_type": "markdown",
   "id": "d64b6a17",
   "metadata": {},
   "source": [
    "## 1. Load Data from S3"
   ]
  },
  {
   "cell_type": "code",
   "execution_count": null,
   "id": "f99ab6ec",
   "metadata": {},
   "outputs": [],
   "source": [
    "# Create Spark session\n",
    "spark = create_spark_session(\"NIDStream-EDA\")\n",
    "\n",
    "# Load sample data from S3\n",
    "bucket = os.getenv('S3_BUCKET', 'your-nids-data-bucket')\n",
    "s3_path = f\"s3a://{bucket}/raw/CSE-CIC-IDS2018/*.csv\"\n",
    "\n",
    "# Load 10% sample for EDA\n",
    "df = load_from_s3(s3_path, spark, sample_fraction=0.1)\n",
    "\n",
    "print(f\"Loaded {df.count():,} records\")\n",
    "print(f\"Number of features: {len(df.columns)}\")"
   ]
  },
  {
   "cell_type": "code",
   "execution_count": null,
   "id": "8ffa3c5a",
   "metadata": {},
   "outputs": [],
   "source": [
    "# Show schema\n",
    "df.printSchema()"
   ]
  },
  {
   "cell_type": "code",
   "execution_count": null,
   "id": "b6f867ea",
   "metadata": {},
   "outputs": [],
   "source": [
    "# Convert to pandas for easier visualization (sample further if needed)\n",
    "pdf = df.sample(fraction=0.01).toPandas()\n",
    "print(f\"Pandas DataFrame shape: {pdf.shape}\")\n",
    "pdf.head()"
   ]
  },
  {
   "cell_type": "markdown",
   "id": "8a8391c7",
   "metadata": {},
   "source": [
    "## 2. Data Quality Analysis"
   ]
  },
  {
   "cell_type": "code",
   "execution_count": null,
   "id": "21f25986",
   "metadata": {},
   "outputs": [],
   "source": [
    "# Check missing values\n",
    "missing_pct = (pdf.isnull().sum() / len(pdf) * 100).sort_values(ascending=False)\n",
    "missing_pct = missing_pct[missing_pct > 0]\n",
    "\n",
    "if len(missing_pct) > 0:\n",
    "    plt.figure(figsize=(10, 6))\n",
    "    missing_pct.head(20).plot(kind='barh')\n",
    "    plt.xlabel('Missing Percentage')\n",
    "    plt.title('Top 20 Features with Missing Values')\n",
    "    plt.tight_layout()\n",
    "    plt.show()\n",
    "else:\n",
    "    print(\"No missing values found!\")"
   ]
  },
  {
   "cell_type": "markdown",
   "id": "c87ca68f",
   "metadata": {},
   "source": [
    "## 3. Label Distribution"
   ]
  },
  {
   "cell_type": "code",
   "execution_count": null,
   "id": "db8993a0",
   "metadata": {},
   "outputs": [],
   "source": [
    "# Label distribution\n",
    "label_counts = pdf['Label'].value_counts()\n",
    "print(\"\\nLabel Distribution:\")\n",
    "print(label_counts)\n",
    "print(f\"\\nClass imbalance ratio: {label_counts.max() / label_counts.min():.2f}\")"
   ]
  },
  {
   "cell_type": "code",
   "execution_count": null,
   "id": "eb72c1fc",
   "metadata": {},
   "outputs": [],
   "source": [
    "# Visualize label distribution\n",
    "fig, (ax1, ax2) = plt.subplots(1, 2, figsize=(15, 6))\n",
    "\n",
    "# Bar plot\n",
    "label_counts.plot(kind='bar', ax=ax1, color='steelblue')\n",
    "ax1.set_title('Attack Type Distribution')\n",
    "ax1.set_xlabel('Attack Type')\n",
    "ax1.set_ylabel('Count')\n",
    "ax1.tick_params(axis='x', rotation=45)\n",
    "\n",
    "# Pie chart\n",
    "label_counts.plot(kind='pie', ax=ax2, autopct='%1.1f%%')\n",
    "ax2.set_ylabel('')\n",
    "ax2.set_title('Attack Type Proportion')\n",
    "\n",
    "plt.tight_layout()\n",
    "plt.show()"
   ]
  },
  {
   "cell_type": "markdown",
   "id": "eddd6ebf",
   "metadata": {},
   "source": [
    "## 4. Feature Correlation Analysis"
   ]
  },
  {
   "cell_type": "code",
   "execution_count": null,
   "id": "5b9c1e2f",
   "metadata": {},
   "outputs": [],
   "source": [
    "# Select numeric features for correlation\n",
    "numeric_cols = pdf.select_dtypes(include=[np.number]).columns.tolist()\n",
    "numeric_cols = [c for c in numeric_cols if c != 'Label']\n",
    "\n",
    "# Calculate correlation matrix (sample features)\n",
    "key_features = [\n",
    "    'Flow Duration', 'Tot Fwd Pkts', 'Tot Bwd Pkts',\n",
    "    'Flow Byts/s', 'Flow Pkts/s', 'Flow IAT Mean',\n",
    "    'Fwd IAT Mean', 'Bwd IAT Mean'\n",
    "]\n",
    "\n",
    "corr_matrix = pdf[key_features].corr()\n",
    "\n",
    "# Heatmap\n",
    "plt.figure(figsize=(10, 8))\n",
    "sns.heatmap(corr_matrix, annot=True, fmt='.2f', cmap='coolwarm', center=0)\n",
    "plt.title('Feature Correlation Matrix')\n",
    "plt.tight_layout()\n",
    "plt.show()"
   ]
  },
  {
   "cell_type": "markdown",
   "id": "ec368bc7",
   "metadata": {},
   "source": [
    "## 5. Attack Characteristics"
   ]
  },
  {
   "cell_type": "code",
   "execution_count": null,
   "id": "c0fcaf3f",
   "metadata": {},
   "outputs": [],
   "source": [
    "# Compare benign vs attack flows\n",
    "pdf['is_attack'] = (pdf['Label'] != 'Benign').astype(int)\n",
    "\n",
    "fig, axes = plt.subplots(2, 2, figsize=(15, 10))\n",
    "\n",
    "features_to_plot = [\n",
    "    ('Flow Duration', axes[0, 0]),\n",
    "    ('Tot Fwd Pkts', axes[0, 1]),\n",
    "    ('Flow Byts/s', axes[1, 0]),\n",
    "    ('Flow Pkts/s', axes[1, 1])\n",
    "]\n",
    "\n",
    "for feature, ax in features_to_plot:\n",
    "    if feature in pdf.columns:\n",
    "        benign = pdf[pdf['is_attack'] == 0][feature].dropna()\n",
    "        attack = pdf[pdf['is_attack'] == 1][feature].dropna()\n",
    "        \n",
    "        ax.hist([benign, attack], label=['Benign', 'Attack'], bins=50, alpha=0.7)\n",
    "        ax.set_xlabel(feature)\n",
    "        ax.set_ylabel('Frequency')\n",
    "        ax.set_title(f'{feature} Distribution')\n",
    "        ax.legend()\n",
    "        ax.set_yscale('log')\n",
    "\n",
    "plt.tight_layout()\n",
    "plt.show()"
   ]
  },
  {
   "cell_type": "markdown",
   "id": "c8109b4a",
   "metadata": {},
   "source": [
    "## 6. Next Steps\n",
    "\n",
    "Based on this EDA:\n",
    "1. Class imbalance requires special handling (SMOTE, class weights)\n",
    "2. Some features show strong correlation - consider dimensionality reduction\n",
    "3. Attack types have distinct characteristics - feature engineering opportunities\n",
    "4. Temporal patterns suggest time-based features are important\n",
    "\n",
    "Proceed to:\n",
    "- `02_feature_engineering.ipynb` for advanced feature creation\n",
    "- `03_model_training.ipynb` for model development"
   ]
  }
 ],
 "metadata": {
  "language_info": {
   "name": "python"
  }
 },
 "nbformat": 4,
 "nbformat_minor": 5
}
